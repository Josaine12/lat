{
 "cells": [
  {
   "cell_type": "code",
   "execution_count": 1,
   "id": "47132159",
   "metadata": {},
   "outputs": [
    {
     "data": {
      "text/plain": [
       "35"
      ]
     },
     "execution_count": 1,
     "metadata": {},
     "output_type": "execute_result"
    }
   ],
   "source": [
    "35\n"
   ]
  },
  {
   "cell_type": "code",
   "execution_count": 2,
   "id": "5d63065b",
   "metadata": {},
   "outputs": [
    {
     "data": {
      "text/plain": [
       "in (generic function with 36 methods)"
      ]
     },
     "execution_count": 2,
     "metadata": {},
     "output_type": "execute_result"
    }
   ],
   "source": [
    "in"
   ]
  },
  {
   "cell_type": "code",
   "execution_count": 3,
   "id": "62a086a8",
   "metadata": {},
   "outputs": [
    {
     "data": {
      "text/plain": [
       "\"/Users/josszarco/Documents/GitHub/lat\""
      ]
     },
     "execution_count": 3,
     "metadata": {},
     "output_type": "execute_result"
    }
   ],
   "source": [
    "pwd()"
   ]
  },
  {
   "cell_type": "code",
   "execution_count": 1,
   "id": "9fb1dd6f",
   "metadata": {},
   "outputs": [
    {
     "data": {
      "text/plain": [
       "456"
      ]
     },
     "execution_count": 1,
     "metadata": {},
     "output_type": "execute_result"
    }
   ],
   "source": [
    "456"
   ]
  },
  {
   "cell_type": "code",
   "execution_count": 8,
   "id": "1d9e6fff",
   "metadata": {},
   "outputs": [
    {
     "ename": "LoadError",
     "evalue": "syntax: extra token \")\" after end of expression",
     "output_type": "error",
     "traceback": [
      "syntax: extra token \")\" after end of expression",
      "",
      "Stacktrace:",
      " [1] top-level scope",
      "   @ In[8]:15"
     ]
    }
   ],
   "source": [
    "D1=sum(cop[i,2]*FeatD[i,2] for i in 1:8)*DemD.c1,\n",
    "D2=sum(cop[i,3]*FeatD[i,2] for i in 1:8)*DemD.c1,\n",
    "D3=sum(cop[i,4]*FeatD[i,2] for i in 1:8)*DemD.c1,\n",
    "D4=sum(cop[i,5]*FeatD[i,2] for i in 1:8)*DemD.c1,\n",
    "D5=sum(cop[i,6]*FeatD[i,2] for i in 1:8)*DemD.c1,\n",
    "D6=sum(cop[i,7]*FeatD[i,2] for i in 1:8)*DemD.c1,\n",
    "D7=sum(cop[i,8]*FeatD[i,2] for i in 1:8)*DemD.c1,\n",
    "D8=sum(cop[i,9]*FeatD[i,2] for i in 1:8)*DemD.c1,\n",
    "D9=sum(cop[i,10]*FeatD[i,2] for i in 1:8)*DemD.c1,\n",
    "D10=sum(cop[i,11]*FeatD[i,2] for i in 1:8)*DemD.c1,\n",
    "D11=sum(cop[i,12]*FeatD[i,2] for i in 1:8)*DemD.c1,\n",
    "D12=sum(cop[i,13]*FeatD[i,2] for i in 1:8)*DemD.c1,\n",
    "D13=sum(cop[i,14]*FeatD[i,2] for i in 1:8)*DemD.c1,\n",
    "D14=sum(cop[i,15]*FeatD[i,2] for i in 1:8)*DemD.c1,\n",
    "D15=sum(cop[i,16]*FeatD[i,2] for i in 1:8)*DemD.c1)"
   ]
  },
  {
   "cell_type": "code",
   "execution_count": null,
   "id": "58f90614",
   "metadata": {},
   "outputs": [],
   "source": []
  }
 ],
 "metadata": {
  "kernelspec": {
   "display_name": "Julia 1.7.3",
   "language": "julia",
   "name": "julia-1.7"
  },
  "language_info": {
   "file_extension": ".jl",
   "mimetype": "application/julia",
   "name": "julia",
   "version": "1.7.3"
  }
 },
 "nbformat": 4,
 "nbformat_minor": 5
}
